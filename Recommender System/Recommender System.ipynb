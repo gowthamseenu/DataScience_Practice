{
 "cells": [
  {
   "cell_type": "code",
   "execution_count": 1,
   "metadata": {},
   "outputs": [],
   "source": [
    "# - Fully developed and deployed recommendation systems are extremly complex and\n",
    "#   resource intensive"
   ]
  },
  {
   "cell_type": "code",
   "execution_count": 2,
   "metadata": {},
   "outputs": [],
   "source": [
    "# - Since full recommender systems require a heavy linear algebra background the\n",
    "#   Advanced Recommender System notebook is provided as an optional resource\n",
    "# - You should only take a look at this notebook if you real comfortable with advanced\n",
    "#    linear algebra.\n",
    "# - We'll show a simpler version of creating a recommendation system using item similarity\n",
    "#   for the project"
   ]
  },
  {
   "cell_type": "code",
   "execution_count": 3,
   "metadata": {},
   "outputs": [],
   "source": [
    "# - The two most common types of recommender systems are Content-Based and\n",
    "#   Collaborative Filtering(CF).\n",
    "#   - Collaborative filtering produces recommendations based on the knowledge\n",
    "#     of user's attitude to items, that is it uses the \"wisdom of the crowd\"\n",
    "#     to recommend items.\n",
    "#   - Content-based recommender systems focus on the attributes of the items and \n",
    "#     gie you recommendations based on the similarity between them."
   ]
  },
  {
   "cell_type": "code",
   "execution_count": 4,
   "metadata": {},
   "outputs": [],
   "source": [
    "# - In general, Collaborative filtering(CF) is more commonly used than content-based\n",
    "#   systems because it usually gives better results and is relatively easy to \n",
    "#   understand(from an overall implementation perspective)\n",
    "# - The algorithm has the ability to do feature learning on its own, which means\n",
    "#   that it can start to learn for itself what features to use.\n",
    "# - CF can be divided into Memory-Baseed Collaborative Filtering and Model-Based\n",
    "#   Collaborative filtering."
   ]
  },
  {
   "cell_type": "code",
   "execution_count": null,
   "metadata": {},
   "outputs": [],
   "source": []
  }
 ],
 "metadata": {
  "kernelspec": {
   "display_name": "Python 3",
   "language": "python",
   "name": "python3"
  },
  "language_info": {
   "codemirror_mode": {
    "name": "ipython",
    "version": 3
   },
   "file_extension": ".py",
   "mimetype": "text/x-python",
   "name": "python",
   "nbconvert_exporter": "python",
   "pygments_lexer": "ipython3",
   "version": "3.7.4"
  }
 },
 "nbformat": 4,
 "nbformat_minor": 4
}
