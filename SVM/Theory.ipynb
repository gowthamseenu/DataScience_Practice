{
 "cells": [
  {
   "cell_type": "code",
   "execution_count": 1,
   "metadata": {},
   "outputs": [],
   "source": [
    "#  - Support Vector Machines(SVMs) are supervised learning models with associated\n",
    "#     learning algorithms that analyze data and recognize patterns, used for\n",
    "#     classification and regression analysis."
   ]
  },
  {
   "cell_type": "code",
   "execution_count": 2,
   "metadata": {},
   "outputs": [],
   "source": [
    "# - Given a set of training examples, each marked for belonging to one of two\n",
    "#   categories, an SVM training algorithm builds a model that assigns new examples\n",
    "#   into one category or the other, making it a non-probabilistic binary linear classifier"
   ]
  },
  {
   "cell_type": "code",
   "execution_count": 3,
   "metadata": {},
   "outputs": [],
   "source": [
    "# - An SVM model is a representation of the examples as points in space, mapped\n",
    "#   so that the examples of the separate categories are divided by a clear gap\n",
    "#   that is as wide as possible\n",
    "# - New examples are then mapped into that same space and predicted to belong to\n",
    "#   a category based on which side of the gap they fall on."
   ]
  },
  {
   "cell_type": "code",
   "execution_count": null,
   "metadata": {},
   "outputs": [],
   "source": []
  }
 ],
 "metadata": {
  "kernelspec": {
   "display_name": "Python 3",
   "language": "python",
   "name": "python3"
  },
  "language_info": {
   "codemirror_mode": {
    "name": "ipython",
    "version": 3
   },
   "file_extension": ".py",
   "mimetype": "text/x-python",
   "name": "python",
   "nbconvert_exporter": "python",
   "pygments_lexer": "ipython3",
   "version": "3.7.4"
  }
 },
 "nbformat": 4,
 "nbformat_minor": 4
}
