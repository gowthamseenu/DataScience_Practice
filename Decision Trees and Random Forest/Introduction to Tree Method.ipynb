{
 "cells": [
  {
   "cell_type": "code",
   "execution_count": 1,
   "metadata": {},
   "outputs": [],
   "source": [
    "# Nodes : Split for the value of a certain attribute\n",
    "# Edges : Outcome of a split to next node\n",
    "# Root : The node that performs the first split\n",
    "# Leaves : Terminal nodes that predict the outcome"
   ]
  },
  {
   "cell_type": "code",
   "execution_count": 2,
   "metadata": {},
   "outputs": [],
   "source": [
    "# Entropy and Information Gain are the Mathematical Methods of choosing the \n",
    "# best split. Refer to reading assignment "
   ]
  },
  {
   "cell_type": "code",
   "execution_count": 3,
   "metadata": {},
   "outputs": [],
   "source": [
    "# To improve performance, we can use many trees with a random sample of features\n",
    "# chosen as the split.\n",
    "# - A new random sample of features is chosen for every single tree at every \n",
    "#   single split.\n",
    "# - For classification, m is typically chosen to be the square root of p."
   ]
  },
  {
   "cell_type": "code",
   "execution_count": 5,
   "metadata": {},
   "outputs": [],
   "source": [
    "# what's the point?\n",
    "# - Suppose there is one very strong failure in the data set. When using \"bagged\"\n",
    "#   trees, most of the trees will use that feature as the top split, resulting\n",
    "#   in an ensemble of similar trees that are highly correlated.\n",
    "# - Averaging highly correlated quantities does not significantly reduce variance.\n",
    "#   By randomly leaving out candidates features from each split, Random Forests \n",
    "#   \"decorrelates\" the trees, such that the averaging process can redue the variance\n",
    "#   of the resulting model."
   ]
  },
  {
   "cell_type": "code",
   "execution_count": null,
   "metadata": {},
   "outputs": [],
   "source": []
  }
 ],
 "metadata": {
  "kernelspec": {
   "display_name": "Python 3",
   "language": "python",
   "name": "python3"
  },
  "language_info": {
   "codemirror_mode": {
    "name": "ipython",
    "version": 3
   },
   "file_extension": ".py",
   "mimetype": "text/x-python",
   "name": "python",
   "nbconvert_exporter": "python",
   "pygments_lexer": "ipython3",
   "version": "3.7.4"
  }
 },
 "nbformat": 4,
 "nbformat_minor": 4
}
