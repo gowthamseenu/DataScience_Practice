{
 "cells": [
  {
   "cell_type": "code",
   "execution_count": null,
   "metadata": {},
   "outputs": [],
   "source": [
    "# Refer ISLR Book\n",
    "# An Introduction to Statistical Learning"
   ]
  },
  {
   "cell_type": "code",
   "execution_count": null,
   "metadata": {},
   "outputs": [],
   "source": [
    "# Complete Reading Chapter 1 and 2"
   ]
  },
  {
   "cell_type": "code",
   "execution_count": 11,
   "metadata": {},
   "outputs": [],
   "source": [
    "# - Machine Learning is a method of data analysis that automates analytical model building.\n",
    "# - Using algorithms that iteratively learn from data, machine learning allows computers to find\n",
    "# hidden insights without being explicitly programmed where to look."
   ]
  },
  {
   "cell_type": "code",
   "execution_count": 5,
   "metadata": {},
   "outputs": [],
   "source": [
    "# What is it used for?\n",
    "# - Fraud Detection\n",
    "# - Web Search results\n",
    "# - real-time ads on web pages\n",
    "# - credit scoring and next-best offers\n",
    "# - Prediction of equipment failures\n",
    "# - New pricing models.\n",
    "# - Network intrusion detection\n",
    "# - Recommendation Engines\n",
    "# - Customer Segmentation\n",
    "# - Text Sentimental Analysis\n",
    "# - Predicting Customer Churn\n",
    "# - Pattern and image recognition\n",
    "# - Email spam filtering\n",
    "# - Financial Modeling"
   ]
  },
  {
   "cell_type": "code",
   "execution_count": 6,
   "metadata": {},
   "outputs": [],
   "source": [
    "# Machine Learning Process\n",
    "# - Data Acquisition\n",
    "# - Data Cleaning\n",
    "# - Split Data as Test Data and Train Data\n",
    "# - Deploy Model"
   ]
  },
  {
   "cell_type": "code",
   "execution_count": 7,
   "metadata": {},
   "outputs": [],
   "source": [
    "# What is Machine Learning?\n",
    "# - There are 3 main types of Machine Learning algorithms\n",
    "#     - Supervised Learning\n",
    "#     - Unsupervised Learning\n",
    "#     - Reinforcement Learning"
   ]
  },
  {
   "cell_type": "code",
   "execution_count": 12,
   "metadata": {},
   "outputs": [],
   "source": [
    "# Supervised Learning\n",
    "# - You have labeled data and are trying to predict a label based off of known features\n",
    "# - Algorithms are trained using labaeled examples, such as an input where the desired output is known\n",
    "# - Ex: a piece of equipment could have data points labeled either \"F\"(failed) or \"R\"(runs)\n",
    "# - The learning algorithm receives a set of inputs along with the corresponding correct outputs.\n",
    "#   and the algorithms learns by comparing its actual output with correct outputs to find errors.\n",
    "# - Through methods like classification, regression, prediction and gradient boosting, supervised learning\n",
    "#   uses patterns to predict the value of the label on additional unlabeled data.\n",
    "# - Supervised learning is commonly used in applications where historical data predicts likely future events.\n",
    "# - Ex: It can anticipate when credit card transactions are likely to be fraudulent or which insurance \n",
    "#       customer is likely to file a claim\n",
    "# - Or it can attempt to predict the price of a house based on different features for houses for which we have\n",
    "#   historical price data."
   ]
  },
  {
   "cell_type": "code",
   "execution_count": 13,
   "metadata": {},
   "outputs": [],
   "source": [
    "# Unsupervised Learning\n",
    "# - You have unlabeled data and are trying to group together similar data points based off features\n",
    "# - Unsupervised learning is used against data that has no historical labels.\n",
    "# - The systems is not told the \"right answer\". The algorithm must figure out what is being shown.\n",
    "# - The goal is to explore the data and find some structure within.\n",
    "# - Or it can find the main attributes that separate customer segments from each other.\n",
    "# - Popular techniques include self-organizing maps, nearest-neighbor mapping, k-means clustering\n",
    "#   and singular value decomposition.\n",
    "#  These algorithms are also used to segment text topics, recommend items and identify data outliers.\n"
   ]
  },
  {
   "cell_type": "code",
   "execution_count": 17,
   "metadata": {},
   "outputs": [],
   "source": [
    "# Reinforcement Learning\n",
    "# - Algorithms learns to perform an action from experience\n",
    "# - Reinforcement learning is often used for robotics, gaming and navigation\n",
    "# - With reinforcement learning, the algorithm discovers throug trial and error which actions\n",
    "#   yield the greatest rewards.\n",
    "# - This type of learning has three primary components:\n",
    "#     - the agent(the learner or decision maker)\n",
    "#     - the environment(everything the agent interacts with)\n",
    "#     - and actions (what the agent can do)\n",
    "# - the objective is for the agent to choose actions that maximize the expected reward over a given\n",
    "#   amount of time.\n",
    "# - the agent will reach the goal much faster by following a good policy.\n",
    "# - So the goal in reinforcement learning is to learn the best policy.\n"
   ]
  },
  {
   "cell_type": "code",
   "execution_count": 18,
   "metadata": {},
   "outputs": [],
   "source": [
    "# Scikit Learn Package\n",
    "# - It's the most popular machine learning package for python and has a lot of algorithms built-in\n",
    "# - pip install scikit-learn\n",
    "# - Every algorithm is exposed in scikit-learn via \"Estimator\"\n",
    "# - Import the model, the general form is:\n",
    "#      - from sklearn.family import Model\n",
    "#      - Ex: from sklearn.linear_model import LinearRegression"
   ]
  },
  {
   "cell_type": "code",
   "execution_count": 19,
   "metadata": {},
   "outputs": [],
   "source": [
    "# Estimator Parameters:\n",
    "# - All the parameters of an estimator can be set when it is instantiated, and have\n",
    "#   suitable default values\n",
    "# - Ex: model = LinearRegression(normalize=True)\n",
    "#       print(model)\n",
    "\n",
    "#       LinearRegression(copy_X=True, fit_intercept=True, normalize=True)"
   ]
  },
  {
   "cell_type": "code",
   "execution_count": 20,
   "metadata": {},
   "outputs": [],
   "source": [
    "import numpy as np\n",
    "from sklearn.model_selection import train_test_split"
   ]
  },
  {
   "cell_type": "code",
   "execution_count": 21,
   "metadata": {},
   "outputs": [],
   "source": [
    "x,y = np.arange(10).reshape((5,2)) , range(5)"
   ]
  },
  {
   "cell_type": "code",
   "execution_count": 22,
   "metadata": {},
   "outputs": [
    {
     "data": {
      "text/plain": [
       "array([[0, 1],\n",
       "       [2, 3],\n",
       "       [4, 5],\n",
       "       [6, 7],\n",
       "       [8, 9]])"
      ]
     },
     "execution_count": 22,
     "metadata": {},
     "output_type": "execute_result"
    }
   ],
   "source": [
    "x"
   ]
  },
  {
   "cell_type": "code",
   "execution_count": 24,
   "metadata": {},
   "outputs": [
    {
     "data": {
      "text/plain": [
       "[0, 1, 2, 3, 4]"
      ]
     },
     "execution_count": 24,
     "metadata": {},
     "output_type": "execute_result"
    }
   ],
   "source": [
    "list(y)"
   ]
  },
  {
   "cell_type": "code",
   "execution_count": 35,
   "metadata": {},
   "outputs": [],
   "source": [
    "x_train,x_test,y_train,y_test =  train_test_split(x,y, test_size=0.3)"
   ]
  },
  {
   "cell_type": "code",
   "execution_count": 36,
   "metadata": {},
   "outputs": [
    {
     "data": {
      "text/plain": [
       "array([[8, 9],\n",
       "       [0, 1],\n",
       "       [6, 7]])"
      ]
     },
     "execution_count": 36,
     "metadata": {},
     "output_type": "execute_result"
    }
   ],
   "source": [
    "x_train"
   ]
  },
  {
   "cell_type": "code",
   "execution_count": 37,
   "metadata": {},
   "outputs": [
    {
     "data": {
      "text/plain": [
       "array([[2, 3],\n",
       "       [4, 5]])"
      ]
     },
     "execution_count": 37,
     "metadata": {},
     "output_type": "execute_result"
    }
   ],
   "source": [
    "x_test"
   ]
  },
  {
   "cell_type": "code",
   "execution_count": 38,
   "metadata": {},
   "outputs": [
    {
     "data": {
      "text/plain": [
       "[4, 0, 3]"
      ]
     },
     "execution_count": 38,
     "metadata": {},
     "output_type": "execute_result"
    }
   ],
   "source": [
    "y_train"
   ]
  },
  {
   "cell_type": "code",
   "execution_count": 39,
   "metadata": {},
   "outputs": [
    {
     "data": {
      "text/plain": [
       "[1, 2]"
      ]
     },
     "execution_count": 39,
     "metadata": {},
     "output_type": "execute_result"
    }
   ],
   "source": [
    "y_test"
   ]
  },
  {
   "cell_type": "code",
   "execution_count": 41,
   "metadata": {},
   "outputs": [],
   "source": [
    "# model.fit(x_train,y_train)\n",
    "# Now the model has been fit and trained on the training data"
   ]
  },
  {
   "cell_type": "code",
   "execution_count": 42,
   "metadata": {},
   "outputs": [],
   "source": [
    "# We get the predicted values using the predict method:\n",
    "#     predictions = model.predict(x_test)"
   ]
  },
  {
   "cell_type": "code",
   "execution_count": 43,
   "metadata": {},
   "outputs": [],
   "source": [
    "# The evaluation method depends on what sort of machine learning algorithm we are using\n",
    "#  Ex: Regression, Classification, Clustering etc"
   ]
  },
  {
   "cell_type": "code",
   "execution_count": 44,
   "metadata": {},
   "outputs": [],
   "source": [
    "# - model.fit() : fit training data\n",
    "# - For supervised learning applications, this accepts two arguments: the data X and the labels y\n",
    "#   (Ex: model.fit(x,y))\n",
    "# - For unsupervised learning applications, this accepts only a single argument, the data X\n",
    "#   (Ex: model.fit(x))"
   ]
  },
  {
   "cell_type": "code",
   "execution_count": 46,
   "metadata": {},
   "outputs": [],
   "source": [
    "# model.predict() :\n",
    "#     given a trainded model, predict the label of a new set of data. This method accepts one arguments,\n",
    "#     the new data x_new \n",
    "#     Ex: model.predict(x_new)\n",
    "#     and returns the learned label for each object in the array\n",
    "# - Available in supervised estimators "
   ]
  },
  {
   "cell_type": "code",
   "execution_count": 47,
   "metadata": {},
   "outputs": [],
   "source": [
    "# model.predict_proba() :\n",
    "#     For classification problems, some estimators also proide this method, which returns the \n",
    "#     probability that a new obserbvation has each categorical label. in this case, the label with the \n",
    "#     the highest probability is returned by model.predict()\n",
    "# - Available in supervised estimators "
   ]
  },
  {
   "cell_type": "code",
   "execution_count": 48,
   "metadata": {},
   "outputs": [],
   "source": [
    "# model.score():\n",
    "#     for classification or regression problems, most estimators implement a score method. \n",
    "#     Scores are between O and 1, with a larger score indicating a better fit.\n",
    "# - Available in supervised estimators "
   ]
  },
  {
   "cell_type": "code",
   "execution_count": 49,
   "metadata": {},
   "outputs": [],
   "source": [
    "# model.predict()\n",
    "#     predict labels in clustering algorithms\n",
    "# - Available in Unsupervised estimators "
   ]
  },
  {
   "cell_type": "code",
   "execution_count": 50,
   "metadata": {},
   "outputs": [],
   "source": [
    "# model.transform()\n",
    "#     give an unsupervised model, transform new data into the new basis. this also accepts one\n",
    "#     argument x_new and returns the new representation of the data based on the unsupervised model\n",
    "# - Available in Unsupervised estimators "
   ]
  },
  {
   "cell_type": "code",
   "execution_count": 51,
   "metadata": {},
   "outputs": [],
   "source": [
    "# model.fit_transform()\n",
    "#     some estimators implement this method, which more efficiently performs a fit and a transform\n",
    "#     on the same input data.\n",
    "# - Available in Unsupervised estimators "
   ]
  },
  {
   "cell_type": "code",
   "execution_count": 52,
   "metadata": {},
   "outputs": [],
   "source": [
    "# classification\n",
    "# regression\n",
    "# clustering\n",
    "# dimensional reduction"
   ]
  },
  {
   "cell_type": "code",
   "execution_count": null,
   "metadata": {},
   "outputs": [],
   "source": [
    "# Supervised learning – the machine is presented with a set of inputs and expected outputs, later given a new input the output is predicted.\n",
    "# Unsupervised learning – the machine aims to find patterns, within a dataset without an explicit input from a human as to what these patterns might look like."
   ]
  }
 ],
 "metadata": {
  "kernelspec": {
   "display_name": "Python 3",
   "language": "python",
   "name": "python3"
  },
  "language_info": {
   "codemirror_mode": {
    "name": "ipython",
    "version": 3
   },
   "file_extension": ".py",
   "mimetype": "text/x-python",
   "name": "python",
   "nbconvert_exporter": "python",
   "pygments_lexer": "ipython3",
   "version": "3.7.4"
  }
 },
 "nbformat": 4,
 "nbformat_minor": 4
}
