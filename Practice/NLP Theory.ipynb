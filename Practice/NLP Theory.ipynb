{
 "cells": [
  {
   "cell_type": "code",
   "execution_count": 2,
   "metadata": {},
   "outputs": [],
   "source": [
    "# - Imagine you work for Google News and you want to group news articles by topic\n",
    "# - Or you work for a legal firm and you need to sift through thousands of pages\n",
    "#   of legal documents to find relevant ones.\n",
    "# - This is where NLP can help!\n",
    "# - We will want to:\n",
    "#    - Compile documents\n",
    "#    - Featurize from tem\n",
    "#    - Compare their features"
   ]
  },
  {
   "cell_type": "code",
   "execution_count": 3,
   "metadata": {},
   "outputs": [],
   "source": [
    "# Example:\n",
    "# - You have 2 documents:\n",
    "#    - \"Blue House\"\n",
    "#    - \"Red House\"\n",
    "\n",
    "# - Featurize based on word count:\n",
    "#    - \"Blue House\" -> (red,blue,house) -> (0,1,1)\n",
    "#    - \"Red House\" -> (red,blue,house) -> (1,0,1)"
   ]
  },
  {
   "cell_type": "code",
   "execution_count": 5,
   "metadata": {},
   "outputs": [],
   "source": [
    "# - A document represented as a vector of word count is called a \"Bag of words\"\n",
    "#     - \"Blue House\" -> (red,blue,house) -> (0,1,1)\n",
    "#     - \"Red House\" -> (red,blue,house) -> (1,0,1)\n",
    "\n",
    "# - We can improve on Bag of words by adjusting word counts based on their \n",
    "#   frequency in corpus(the group of all the documents)\n",
    "# - We can use TF-IDF(Term Frequency - Inverse Document Frequency)"
   ]
  },
  {
   "cell_type": "code",
   "execution_count": 6,
   "metadata": {},
   "outputs": [],
   "source": [
    "# Term Frequency - Importance of the term within that document\n",
    "#   TF(d,t) = Number of occurrences of term t in document d\n",
    "\n",
    "# Inverse Document Frequency - Importance of the term in the corpus\n",
    "#   IDF(t) = log(d,t) wher\n",
    "#    D = total number of documents\n",
    "#    t = number of documents with the terms"
   ]
  },
  {
   "cell_type": "code",
   "execution_count": 8,
   "metadata": {},
   "outputs": [],
   "source": [
    "# pip install nltk"
   ]
  },
  {
   "cell_type": "code",
   "execution_count": null,
   "metadata": {},
   "outputs": [],
   "source": []
  }
 ],
 "metadata": {
  "kernelspec": {
   "display_name": "Python 3",
   "language": "python",
   "name": "python3"
  },
  "language_info": {
   "codemirror_mode": {
    "name": "ipython",
    "version": 3
   },
   "file_extension": ".py",
   "mimetype": "text/x-python",
   "name": "python",
   "nbconvert_exporter": "python",
   "pygments_lexer": "ipython3",
   "version": "3.7.4"
  }
 },
 "nbformat": 4,
 "nbformat_minor": 4
}
