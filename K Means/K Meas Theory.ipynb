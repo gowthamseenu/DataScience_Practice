{
 "cells": [
  {
   "cell_type": "code",
   "execution_count": 2,
   "metadata": {},
   "outputs": [],
   "source": [
    "# - K Means Clustering is an unsupervised learning algorithm that will attempt to group\n",
    "# similar clusters together in your data.\n",
    "# - So what does a typical clustering problem look like?\n",
    "#     - Cluster Similar documents\n",
    "#     - Cluster Customer based on Features\n",
    "#     - Market Segmentation\n",
    "#     - Identify similar physical groups"
   ]
  },
  {
   "cell_type": "code",
   "execution_count": 3,
   "metadata": {},
   "outputs": [],
   "source": [
    "# - The overall goal is to divide data into distinct groups such that observations\n",
    "# within each group are similar"
   ]
  },
  {
   "cell_type": "code",
   "execution_count": 4,
   "metadata": {},
   "outputs": [],
   "source": [
    "# The K Means Algorithm\n",
    "# - Choose a number of Clusters 'K'\n",
    "# - Randomly assign each point to a clustr\n",
    "#   - For each cluster, compute the cluster centroid by taking the mean vector\n",
    "#     of points in the cluster\n",
    "#   - Assign each data point to the cluster for which the centroid is the closest"
   ]
  },
  {
   "cell_type": "code",
   "execution_count": 5,
   "metadata": {},
   "outputs": [],
   "source": [
    "# Choosing a K Value:\n",
    "# - There is no easy answer for choosing a \"best\" K value\n",
    "# - One way is the elbow method\n",
    "\n",
    "# - First of all, compute the sum of squared error(SSE) for some values of\n",
    "#   k(for ex 2,4,6,8, etc.)\n",
    "# - The SSE is defined as the sum of the squared distance between each member\n",
    "#   of the cluster and its centroid"
   ]
  },
  {
   "cell_type": "code",
   "execution_count": 6,
   "metadata": {},
   "outputs": [],
   "source": [
    "# - If you plot k against the SSE, you will see that the error decreases as\n",
    "#   k gets larger; this is because when the number of clusters increases, they \n",
    "#   should be smaller, so ditortion is also smaller\n",
    "# - The idea of the elbow method is to choose that k at which the SSE\n",
    "#   decreases abruptly\n",
    "# - This produces an \"elbow effect\" in the graph"
   ]
  },
  {
   "cell_type": "code",
   "execution_count": null,
   "metadata": {},
   "outputs": [],
   "source": []
  }
 ],
 "metadata": {
  "kernelspec": {
   "display_name": "Python 3",
   "language": "python",
   "name": "python3"
  },
  "language_info": {
   "codemirror_mode": {
    "name": "ipython",
    "version": 3
   },
   "file_extension": ".py",
   "mimetype": "text/x-python",
   "name": "python",
   "nbconvert_exporter": "python",
   "pygments_lexer": "ipython3",
   "version": "3.7.4"
  }
 },
 "nbformat": 4,
 "nbformat_minor": 4
}
