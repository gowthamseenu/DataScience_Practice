{
 "cells": [
  {
   "cell_type": "code",
   "execution_count": 1,
   "metadata": {},
   "outputs": [],
   "source": [
    "# - PCA is an unsupervised statistical technique used to examine the interrelations among a\n",
    "#   set of variables in order to identify the underlying structure of those variables.\n",
    "# - It is also known sometimes as a general factor analysis"
   ]
  },
  {
   "cell_type": "code",
   "execution_count": 2,
   "metadata": {},
   "outputs": [],
   "source": [
    "# - Where regression determines a line of best fit to a data set, factor analysis\n",
    "#   determines several orthogonal lines of best fit to the data set.\n",
    "# - Orthogonal means \"at right angles\"\n",
    "#    - Actually the lines are perpendicular to each other in n-dimensional space.\n",
    "# - n-Dimensional Space is the variable sample space.\n",
    "#    - There are as many dimensions as there are variables, so in a data set \n",
    "#      with 4 variables the sample space is 4-dimensional"
   ]
  },
  {
   "cell_type": "code",
   "execution_count": 6,
   "metadata": {},
   "outputs": [],
   "source": [
    "# - Components are a linear transformation that chosses a varible system for the\n",
    "#   data set such that the greatest variance of the data set comes to lie on the\n",
    "#   firt axis\n",
    "# - The second greatest variance on the second axis, and so on....\n",
    "# - This process allows us to reduce the number of varibles used in an analysis\n",
    "# - Note: That components are uncorrelated, since in the sample space they are\n",
    "#         orthogonal to each other.\n",
    "# - We can continue this analysis into higher dimensions"
   ]
  },
  {
   "cell_type": "code",
   "execution_count": 7,
   "metadata": {},
   "outputs": [],
   "source": [
    "# - If we use this technique on a data set with a larger number of varibles,\n",
    "#   we can compress that amount of explained variation to just a few components.\n",
    "# - The most challenging part of PCA is interpreting the components."
   ]
  },
  {
   "cell_type": "code",
   "execution_count": 8,
   "metadata": {},
   "outputs": [],
   "source": [
    "# - We usually want to standardize our data by some scale for PCA, so we'll\n",
    "#   cover how to do this as well.\n",
    "# - Since the algorithm is used usually for analysis of data and not a fully\n",
    "#   deployable model"
   ]
  },
  {
   "cell_type": "code",
   "execution_count": null,
   "metadata": {},
   "outputs": [],
   "source": []
  }
 ],
 "metadata": {
  "kernelspec": {
   "display_name": "Python 3",
   "language": "python",
   "name": "python3"
  },
  "language_info": {
   "codemirror_mode": {
    "name": "ipython",
    "version": 3
   },
   "file_extension": ".py",
   "mimetype": "text/x-python",
   "name": "python",
   "nbconvert_exporter": "python",
   "pygments_lexer": "ipython3",
   "version": "3.7.4"
  }
 },
 "nbformat": 4,
 "nbformat_minor": 4
}
