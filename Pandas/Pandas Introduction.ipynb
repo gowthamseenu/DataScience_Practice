{
 "cells": [
  {
   "cell_type": "code",
   "execution_count": 1,
   "metadata": {},
   "outputs": [],
   "source": [
    "# - Pandas is an open source library built on top of NumPy\n",
    "# - It allows for fast analysis and data cleaning and preparation\n",
    "# - It excels in performance and productivity\n",
    "# - It also has built-in visualization features.\n",
    "# - It can work with data from a wide variety of sources"
   ]
  },
  {
   "cell_type": "code",
   "execution_count": 2,
   "metadata": {},
   "outputs": [],
   "source": [
    "#pip install pandas"
   ]
  },
  {
   "cell_type": "code",
   "execution_count": 3,
   "metadata": {},
   "outputs": [],
   "source": [
    "# - Series\n",
    "# - Data Frames\n",
    "# - Missing Data\n",
    "# - GroupBy\n",
    "# - Merging,Joining and Concatenating\n",
    "# - Operations\n",
    "# - Data Input and Output "
   ]
  },
  {
   "cell_type": "code",
   "execution_count": null,
   "metadata": {},
   "outputs": [],
   "source": []
  }
 ],
 "metadata": {
  "kernelspec": {
   "display_name": "Python 3",
   "language": "python",
   "name": "python3"
  },
  "language_info": {
   "codemirror_mode": {
    "name": "ipython",
    "version": 3
   },
   "file_extension": ".py",
   "mimetype": "text/x-python",
   "name": "python",
   "nbconvert_exporter": "python",
   "pygments_lexer": "ipython3",
   "version": "3.7.4"
  }
 },
 "nbformat": 4,
 "nbformat_minor": 4
}
