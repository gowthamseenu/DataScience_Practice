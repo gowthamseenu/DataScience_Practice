{
 "cells": [
  {
   "cell_type": "code",
   "execution_count": 1,
   "metadata": {},
   "outputs": [],
   "source": [
    "# - K Nearest Neighbours is a classification algorithm that operates on a very simple\n",
    "#   principle\n",
    "# - It is best shown through example\n",
    "# - Imagine we had some imaginary data on Dogs and Horses, with heights and weights"
   ]
  },
  {
   "cell_type": "code",
   "execution_count": 2,
   "metadata": {},
   "outputs": [],
   "source": [
    "# Training Algorithm:\n",
    "# - Store all the data\n",
    "\n",
    "# Prediction Algorithm:\n",
    "# - calculate the distance from x to all points in your data\n",
    "# - Sort the points in your data by increasing distance from x\n",
    "# - Predict the majority label of the \"k\" closest points"
   ]
  },
  {
   "cell_type": "code",
   "execution_count": 3,
   "metadata": {},
   "outputs": [],
   "source": [
    "# Choosing a K will affect what class a new point is assigned to:"
   ]
  },
  {
   "cell_type": "code",
   "execution_count": 4,
   "metadata": {},
   "outputs": [],
   "source": [
    "# Works with any umber of classes\n",
    "# Easy to add more data\n",
    "# Few parametes i.e., K, Distance Metrics"
   ]
  },
  {
   "cell_type": "code",
   "execution_count": null,
   "metadata": {},
   "outputs": [],
   "source": []
  }
 ],
 "metadata": {
  "kernelspec": {
   "display_name": "Python 3",
   "language": "python",
   "name": "python3"
  },
  "language_info": {
   "codemirror_mode": {
    "name": "ipython",
    "version": 3
   },
   "file_extension": ".py",
   "mimetype": "text/x-python",
   "name": "python",
   "nbconvert_exporter": "python",
   "pygments_lexer": "ipython3",
   "version": "3.7.4"
  }
 },
 "nbformat": 4,
 "nbformat_minor": 4
}
