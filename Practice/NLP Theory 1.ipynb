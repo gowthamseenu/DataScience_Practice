{
 "cells": [
  {
   "cell_type": "code",
   "execution_count": 1,
   "metadata": {},
   "outputs": [],
   "source": [
    "# Natural Language Processing\n",
    "# - Text Mining / Text Analytics is the process of deriving meaningful information from natural language text\n",
    "# - NLP : is a part of computer science and artifical intelligence which deals with human language"
   ]
  },
  {
   "cell_type": "code",
   "execution_count": 2,
   "metadata": {},
   "outputs": [],
   "source": [
    "# Applications of NLP:\n",
    "# - Sentimental Analysis\n",
    "# - Chat bot\n",
    "# - Speech Recognition\n",
    "# - Machine Translation\n",
    "# - Spell checking\n",
    "# - Keyword Searching\n",
    "# - Information Extraction\n",
    "# - Advertisement Matching"
   ]
  },
  {
   "cell_type": "code",
   "execution_count": 3,
   "metadata": {},
   "outputs": [],
   "source": [
    "# Natural Language Processing\n",
    "\n",
    "# - Natural Language Understanding\n",
    "#   - First mapping the given input into natural language into useful representation and analysing those aspect of the language\n",
    "\n",
    "\n",
    "# - Natural Language Generation\n",
    "#   - It is the process of producing meaningful phrases and sentences in the from of natural language from internal representation "
   ]
  },
  {
   "cell_type": "code",
   "execution_count": 4,
   "metadata": {},
   "outputs": [],
   "source": [
    "# Various steps involved in Natural Language Processing:\n",
    "\n",
    "# - Tokenization\n",
    "# - Stemming\n",
    "# - Lemmatization\n",
    "# - POS Tags\n",
    "# - Named Entity Recognition(NER)\n",
    "# - Chunking"
   ]
  },
  {
   "cell_type": "code",
   "execution_count": 5,
   "metadata": {},
   "outputs": [],
   "source": [
    "# Tokenization\n",
    "\n",
    "# - It is the process of breaking strings into tokens which inturn a small structures or units that can be used for Tokenization\n",
    "\n",
    "# - Ex: Tokenization is the first setup in NLP\n",
    "# Tokens:\n",
    "# 1) Tokenization\n",
    "# 2) is \n",
    "# 3) the\n",
    "# 4) first\n",
    "# 5) setup\n",
    "# 6) in\n",
    "# 7) NLP"
   ]
  },
  {
   "cell_type": "code",
   "execution_count": 6,
   "metadata": {},
   "outputs": [],
   "source": [
    "# Stemming\n",
    "\n",
    "# - It refers to Normalize words into its base form or root form.\n",
    "\n",
    "# - Ex: \n",
    "# Affection  ------|\n",
    "# Affects          |\n",
    "# Affections       |  Stemming\n",
    "# Affected         |=============>  Affect\n",
    "# Affectation      |\n",
    "# Affecting  ------|"
   ]
  },
  {
   "cell_type": "code",
   "execution_count": 7,
   "metadata": {},
   "outputs": [],
   "source": [
    "# Lemmatization\n",
    "\n",
    "# - Groups together different inflected forms of word, called Lemma\n",
    "# - Somehow similar to stemming, as it maps several words into one common root\n",
    "# - Output of Lemmatization is a proper word\n",
    "# - For ex: a Lemmatizer should map gone, going and went it go\n",
    "\n",
    "# - Logical analysis of the word\n",
    "# - It is necessary to have detailed dictionary from which algorithm can take through"
   ]
  },
  {
   "cell_type": "code",
   "execution_count": 8,
   "metadata": {},
   "outputs": [],
   "source": [
    "# POS Tags\n",
    "\n",
    "# - Grammatical type of the word are the parts of speech\n",
    "# - Noun, Verb, Adverb, Adjective and Article\n",
    "\n",
    "# - It indicates how a word function in meaning as well as grammatically between the sentences\n",
    "\n",
    "# Ex: \"Google\" something on the internet \n",
    "# where \"Google\" here is Verb/Noun"
   ]
  },
  {
   "cell_type": "code",
   "execution_count": 9,
   "metadata": {},
   "outputs": [],
   "source": [
    "# Named Entity Recognition(NER)\n",
    "\n",
    "# - It is the process of detecting the Name and its person Name, Company Name, Quantities and Location\n",
    "\n",
    "# - It has 3 steps\n",
    "#   - Noun phase identification\n",
    "#   - The phrase identification\n",
    "#   - Entity disambigation\n",
    "\n",
    "# Ex: Google's CEO Sundar Pichai introduced the new pixel3 at Newyork Central Mall\n",
    "#       \\               \\                                                   \\\n",
    "#       \\               \\                                                   \\\n",
    "#       \\               \\                                                   \\\n",
    "#       \\               \\                                                   \\\n",
    "#   Organization     Person                                              Organization\n"
   ]
  },
  {
   "cell_type": "code",
   "execution_count": 10,
   "metadata": {},
   "outputs": [],
   "source": [
    "# Chunking\n",
    "\n",
    "# - It means picking up individual pieces of information and Grouping them into bigger pieces"
   ]
  },
  {
   "cell_type": "code",
   "execution_count": null,
   "metadata": {},
   "outputs": [],
   "source": []
  }
 ],
 "metadata": {
  "kernelspec": {
   "display_name": "Python 3",
   "language": "python",
   "name": "python3"
  },
  "language_info": {
   "codemirror_mode": {
    "name": "ipython",
    "version": 3
   },
   "file_extension": ".py",
   "mimetype": "text/x-python",
   "name": "python",
   "nbconvert_exporter": "python",
   "pygments_lexer": "ipython3",
   "version": "3.7.4"
  }
 },
 "nbformat": 4,
 "nbformat_minor": 4
}
