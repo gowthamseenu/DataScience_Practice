{
 "cells": [
  {
   "cell_type": "code",
   "execution_count": 1,
   "metadata": {},
   "outputs": [],
   "source": [
    "# - Logistic Regression as a method for Classification\n",
    "# - Some exaples of classification problems:\n",
    "#     - spam versus \"Ham\" emails\n",
    "#     - Loan Default(yes/no)\n",
    "#     - Disease Diagnosis\n",
    "#     Above were all examples of Binary Classification"
   ]
  },
  {
   "cell_type": "code",
   "execution_count": 2,
   "metadata": {},
   "outputs": [],
   "source": [
    "# - So far we have only seen regression problems where we try to predict a continuous value\n",
    "# - Although the name may be confusing at first, logistic regression allows us to solve classifaction\n",
    "#   problems, where we are trying to predict discrete categories.\n",
    "# - The convention for binary classification is to have two classes 0 and 1"
   ]
  },
  {
   "cell_type": "code",
   "execution_count": 7,
   "metadata": {},
   "outputs": [],
   "source": [
    "# - we can't use a normal linear regression model on binary groups. It won't lead to a good ft\n",
    "# - Insted we can transform our linear regression to a logistic regression cure\n",
    "# - The Sigmoid(aka Logistic) Function takes in any value and outputs it to be betweem 0 and 1"
   ]
  },
  {
   "cell_type": "code",
   "execution_count": 8,
   "metadata": {},
   "outputs": [],
   "source": [
    "# - After you train a logistic regression model on some training data, you will evaluate model's\n",
    "#   performance on some test data"
   ]
  },
  {
   "cell_type": "code",
   "execution_count": null,
   "metadata": {},
   "outputs": [],
   "source": []
  }
 ],
 "metadata": {
  "kernelspec": {
   "display_name": "Python 3",
   "language": "python",
   "name": "python3"
  },
  "language_info": {
   "codemirror_mode": {
    "name": "ipython",
    "version": 3
   },
   "file_extension": ".py",
   "mimetype": "text/x-python",
   "name": "python",
   "nbconvert_exporter": "python",
   "pygments_lexer": "ipython3",
   "version": "3.7.4"
  }
 },
 "nbformat": 4,
 "nbformat_minor": 4
}
